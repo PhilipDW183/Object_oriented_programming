{
 "cells": [
  {
   "cell_type": "markdown",
   "metadata": {},
   "source": [
    "# Data Science workshop interview: Object Oriented Programming\n",
    "\n",
    "In completing these problems feel free to look back at the workshop tutorial to see what works and what doesn't. This problem sheet will be broken up into two parts:\n",
    "- <b>Debugging problems</b>\n",
    "- <b>Coding from scratch</b>\n",
    "\n",
    "Feel free to do these in either order but debugging should help to solve some of the coding from Scratch problems."
   ]
  },
  {
   "cell_type": "markdown",
   "metadata": {},
   "source": [
    "## Debugging Problems\n",
    "\n",
    "Here the code will be incorrect and so you should correct it such that it will begin to work. The comments give an general indication of what the code is meant to do: \n",
    "\n",
    "### 1) Creating an animal object\n",
    "\n",
    "Here the purpose is to create an animal object with the characteristics of number of legs, wings and fins with legs, wings as numbers while fins is a boolean:"
   ]
  },
  {
   "cell_type": "code",
   "execution_count": null,
   "metadata": {},
   "outputs": [],
   "source": [
    "#create a class of animal\n",
    "class Animal:\n",
    "    \n",
    "    #initialise the object when created with attributes\n",
    "    def __init__(??, ??, ??):\n",
    "        self.legs = ??\n",
    "        self.wings = ??\n",
    "        self.fins = ??\n",
    "\n",
    "#create a bird object that has two legs, wings = True and no fins\n",
    "Bird = Animal(??, ??)"
   ]
  },
  {
   "cell_type": "markdown",
   "metadata": {},
   "source": [
    "### 2) Accessing attributes\n",
    "\n",
    "The purpose is to be able to access the attributes of the fish, based on the corrected animal class above"
   ]
  },
  {
   "cell_type": "code",
   "execution_count": null,
   "metadata": {},
   "outputs": [],
   "source": [
    "Fish = Animal(0, False, True)\n",
    "\n",
    "#accessing the legs attributes\n",
    "print(f\"The fish has: {str(Fish.??)} legs\")\n",
    "\n",
    "#accessing the fins attribute\n",
    "print(f\"The fish has fins: {str(Fish.??)}\")\n",
    "\n",
    "#accessing the wings attribute\n",
    "print(f\"The fish has wings: {str(Fish.??)}\")"
   ]
  },
  {
   "cell_type": "markdown",
   "metadata": {},
   "source": [
    "### 3) Creating a Dog subclass of animal\n",
    "\n",
    "Creating a dog subclass of animal that takes the same attributes as the animal class but has new methods\n"
   ]
  },
  {
   "cell_type": "code",
   "execution_count": null,
   "metadata": {},
   "outputs": [],
   "source": [
    "class Dog(Animal):\n",
    "    \n",
    "    #setting the class species attribute called \"species\"\n",
    "    #which returns \"Dog\"\n",
    "    ??\n",
    "    \n",
    "    #use the initialisation of the animal class\n",
    "    def __init__(self, legs, wings, fins, ??, ??):\n",
    "        #using the parent init\n",
    "        Animal.__init__(self, legs, wings, fins)\n",
    "        #add the break od the dog\n",
    "        self.breed = >>\n",
    "        #add the name of the dog\n",
    "        self.name = ??\n",
    "        \n",
    "    #defining a method to print \"Bark\" when called\"\n",
    "    class ??\n",
    "        #print bark\n",
    "        ??\n",
    "\n",
    "#This should run when everything is in place\n",
    "Daisy = Dog(4, False, False, \"Dalmation\", \"Daisy\")\n",
    "\n",
    "Daisy.bark()"
   ]
  },
  {
   "cell_type": "markdown",
   "metadata": {},
   "source": [
    "## Coding from Scratch\n",
    "\n",
    "Here you are expected to code the solutions from scratch. The question will indicate what is expected of the final code and how this may be achieved.\n",
    "\n",
    "### 1) Create a shape object \n",
    "\n",
    "Here you are expected to create an empty shape object that simply has the attributes of: number of faces and number of dimensions (i.e. 2D or 3D but as an integer).\n",
    "\n",
    "Create an instance of the shape class called Pyramid that has 5 faces and 3 dimensions."
   ]
  },
  {
   "cell_type": "code",
   "execution_count": null,
   "metadata": {},
   "outputs": [],
   "source": []
  },
  {
   "cell_type": "markdown",
   "metadata": {},
   "source": [
    "### 2) Create a cube class that inherits from the shape class\n",
    "\n",
    "Create a cube class that inherits from the shape class, but adds a attribute for height.\n",
    "\n",
    "Create an instance of the Cube class with 6 faces, 3 dimensions and a height of 10. Check the height."
   ]
  },
  {
   "cell_type": "code",
   "execution_count": null,
   "metadata": {},
   "outputs": [],
   "source": []
  },
  {
   "cell_type": "markdown",
   "metadata": {},
   "source": [
    "### 3) Add a method to the cube class to caculate volume\n",
    "\n",
    "Add a method to the square class you created to calcualte the volume of the square. Then create a new square with height = 5 and calculate the volume."
   ]
  },
  {
   "cell_type": "code",
   "execution_count": null,
   "metadata": {},
   "outputs": [],
   "source": []
  },
  {
   "cell_type": "markdown",
   "metadata": {},
   "source": [
    "### 4) Add a method to the cube class to calculate total surface area\n",
    "\n",
    "Add a method to the square class to calculate the surface area of the cube. Then create a new square with height = 10 and calculate the total surface area."
   ]
  },
  {
   "cell_type": "code",
   "execution_count": null,
   "metadata": {},
   "outputs": [],
   "source": []
  },
  {
   "cell_type": "markdown",
   "metadata": {},
   "source": [
    "### 5) Create a Sphere object that inherits from the shape class\n",
    "\n",
    "Create a sphere class that inherits from the shape class, and adds the radius attribute. Give it methods of calculating total volume and surface area. \n",
    "\n",
    "Create two Sphere with radius = 12 and 3 respectively and print out the surface area and volume."
   ]
  },
  {
   "cell_type": "code",
   "execution_count": null,
   "metadata": {},
   "outputs": [],
   "source": []
  }
 ],
 "metadata": {
  "kernelspec": {
   "display_name": "Python 3 (ipykernel)",
   "language": "python",
   "name": "python3"
  },
  "language_info": {
   "codemirror_mode": {
    "name": "ipython",
    "version": 3
   },
   "file_extension": ".py",
   "mimetype": "text/x-python",
   "name": "python",
   "nbconvert_exporter": "python",
   "pygments_lexer": "ipython3",
   "version": "3.9.6"
  }
 },
 "nbformat": 4,
 "nbformat_minor": 4
}
